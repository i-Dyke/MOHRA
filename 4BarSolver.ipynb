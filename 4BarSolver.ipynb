{
 "cells": [
  {
   "cell_type": "markdown",
   "metadata": {},
   "source": [
    "Solver for 4 Bar Configs!"
   ]
  },
  {
   "cell_type": "code",
   "execution_count": 2,
   "metadata": {},
   "outputs": [],
   "source": [
    "import matplotlib.pyplot as plt\n",
    "import numpy as np"
   ]
  },
  {
   "cell_type": "code",
   "execution_count": null,
   "metadata": {},
   "outputs": [],
   "source": [
    "# Inputs\n",
    "\n",
    "lengths = {'G': 4.78, # Ground\n",
    "           '1': 3, # Drive Link\n",
    "           '2': 4.3, # Connector Link\n",
    "           '3': 2, # Output Link\n",
    "           }\n",
    "angles = {'G': 180 * np.pi/180, # Required to be 180 to solve. Map if you wan other angles\n",
    "          '1': 40 * np.pi/180}\n",
    "omegas = {'G':0,\n",
    "        '1': 1.5} # Rad/s\n",
    "alphas = {'G':0,\n",
    "          '1':.4} # Rad/s\n",
    "config = True\n",
    "\n",
    "vectors = {'G': 0}\n",
    "vectors['G'] = len['G'] * np.exp(angles['G'] * 1j)\n",
    "vectors['1'] = lengths['1'] * np.exp(angles['1'] * 1j)"
   ]
  },
  {
   "cell_type": "code",
   "execution_count": null,
   "metadata": {},
   "outputs": [],
   "source": [
    "# Using the coordinate @ end of L1 to find the B & C Angles\n",
    "\n",
    "C = vectors['G'] + vectors['1']\n",
    "\n",
    "unit_i = -1 * C/ np.abs(C)\n",
    "unit_j = unit_i * 1j\n",
    "\n",
    "# Finding the unknown angles\n",
    "\n",
    "Ax = (lengths['2']**2 + np.abs(C)**2 - lengths['3']**2) / (2 * np.abs(C))\n",
    "Bx = np.abs(C) - Ax\n",
    "\n",
    "Ay = np.sqrt(lengths['2']**2 - Ax**2)\n",
    "By = np.sqrt(lengths['3']**2 - Bx**2)\n",
    "if config:\n",
    "    By = By * -1\n",
    "else:\n",
    "    Ay = Ay * -1\n",
    "\n",
    "vectors['2'] = unit_i * Ax + unit_j * Ay\n",
    "vectors['3'] = unit_i * Bx + unit_j * By\n",
    "\n",
    "angles['2'] = np.angle(vectors['2'])\n",
    "angles['3'] = np.angle(vectors['3'])\n"
   ]
  },
  {
   "cell_type": "code",
   "execution_count": 5,
   "metadata": {},
   "outputs": [
    {
     "data": {
      "text/plain": [
       "np.float64(-0.21306992691746537)"
      ]
     },
     "execution_count": 5,
     "metadata": {},
     "output_type": "execute_result"
    }
   ],
   "source": [
    "angles['2']"
   ]
  },
  {
   "cell_type": "code",
   "execution_count": 6,
   "metadata": {},
   "outputs": [
    {
     "data": {
      "image/png": "[encoded data removed]",
      "text/plain": [
       "<Figure size 640x480 with 1 Axes>"
      ]
     },
     "metadata": {},
     "output_type": "display_data"
    }
   ],
   "source": [
    "# Plotting\n",
    "curr = complex(0,0)\n",
    "for l in vectors.keys():\n",
    "    prev = complex(curr)\n",
    "    curr = curr + vectors[l]\n",
    "    if l == \"G\":\n",
    "        linestyle = \"--\"\n",
    "    else:\n",
    "        linestyle = \"\"\n",
    "\n",
    "    plt.plot([np.real(prev), np.real(curr)],\n",
    "             [np.imag(prev), np.imag(curr)],\n",
    "             linestyle)"
   ]
  },
  {
   "cell_type": "code",
   "execution_count": 7,
   "metadata": {},
   "outputs": [],
   "source": [
    "staticLengths = np.array( [[np.imag(vectors['2']), np.imag(vectors['3'])],\n",
    "                            [np.real(vectors['2']), np.real(vectors['3'])]])\n",
    "vel = np.array([-1 * np.imag(vectors['1']), -1*np.real(vectors['1'])]) * omegas['1']\n",
    "\n",
    "omegas['2'], omegas['3'] = np.linalg.solve(staticLengths, vel)\n",
    "\n",
    "staticLengthsCross = np.array( \n",
    "    [[np.imag(vectors['1'] * 1j), np.imag(vectors['2']*1j), np.imag(vectors['3']*1j)],\n",
    "    [np.real(vectors['1'] * 1j), np.real(vectors['2']*1j), np.real(vectors['3']*1j)]]\n",
    ")\n",
    "sqvel = np.array([omegas['1']**2, omegas['2']**2, omegas['3']**2])\n",
    "acc = np.array([np.imag(vectors['1']), np.real(vectors['1'])]) * alphas['1']\n",
    "\n",
    "#rhs = -1 * np.dot(staticLengthsCross,sqvel) - acc\n",
    "alphas['2'], alphas['3'] = np.linalg.solve(staticLengths, \n",
    "                                           -1 * np.dot(staticLengthsCross,sqvel).reshape((2,1)) - acc)"
   ]
  },
  {
   "cell_type": "code",
   "execution_count": 8,
   "metadata": {},
   "outputs": [
    {
     "data": {
      "text/plain": [
       "{'G': 0,\n",
       " '1': 1.5,\n",
       " '2': np.float64(0.25048969421311323),\n",
       " '3': np.float64(2.6148889621392444)}"
      ]
     },
     "execution_count": 8,
     "metadata": {},
     "output_type": "execute_result"
    }
   ],
   "source": [
    "omegas"
   ]
  },
  {
   "cell_type": "markdown",
   "metadata": {},
   "source": [
    "Iteration"
   ]
  },
  {
   "cell_type": "code",
   "execution_count": 13,
   "metadata": {},
   "outputs": [],
   "source": [
    "def kinematics(lengths, angles, omegas, alphas, config):\n",
    "        vectors = {'G': 0}\n",
    "        vectors['G'] = lengths['G'] * np.exp(angles['G'] * 1j)\n",
    "        vectors['1'] = lengths['1'] * np.exp(angles['1'] * 1j)\n",
    "        # Using the coordinate @ end of L1 to find the B & C Angles\n",
    "\n",
    "        C = vectors['G'] + vectors['1']\n",
    "\n",
    "        unit_i = -1 * C/ np.abs(C)\n",
    "        unit_j = unit_i * 1j\n",
    "\n",
    "        # Finding the unknown angles\n",
    "\n",
    "        Ax = (lengths['2']**2 + np.abs(C)**2 - lengths['3']**2) / (2 * np.abs(C))\n",
    "        Bx = np.abs(C) - Ax\n",
    "\n",
    "        Ay = np.sqrt(lengths['2']**2 - Ax**2)\n",
    "        By = np.sqrt(lengths['3']**2 - Bx**2)\n",
    "        if config:\n",
    "                By = By * -1\n",
    "        else:\n",
    "                Ay = Ay * -1\n",
    "\n",
    "        vectors['2'] = unit_i * Ax + unit_j * Ay\n",
    "        vectors['3'] = unit_i * Bx + unit_j * By\n",
    "\n",
    "        angles['2'] = np.angle(vectors['2'])\n",
    "        angles['3'] = np.angle(vectors['3'])\n",
    "\n",
    "        staticLengths = np.array( [[np.imag(vectors['2']), np.imag(vectors['3'])],\n",
    "                            [np.real(vectors['2']), np.real(vectors['3'])]])\n",
    "        vel = np.array([-1 * np.imag(vectors['1']), -1*np.real(vectors['1'])]) * omegas['1']\n",
    "\n",
    "        omegas['2'], omegas['3'] = np.linalg.solve(staticLengths, vel)\n",
    "\n",
    "        staticLengthsCross = np.array( \n",
    "        [[np.imag(vectors['1'] * 1j), np.imag(vectors['2']*1j), np.imag(vectors['3']*1j)],\n",
    "        [np.real(vectors['1'] * 1j), np.real(vectors['2']*1j), np.real(vectors['3']*1j)]]\n",
    "        )\n",
    "        sqvel = np.array([omegas['1']**2, omegas['2']**2, omegas['3']**2])\n",
    "        acc = np.array([np.imag(vectors['1']), np.real(vectors['1'])]) * alphas['1']\n",
    "\n",
    "        #rhs = -1 * np.dot(staticLengthsCross,sqvel) - acc\n",
    "        alphas['2'], alphas['3'] = np.linalg.solve(staticLengths, \n",
    "                                                -1 * np.dot(staticLengthsCross,sqvel).reshape((2,1)) - acc)\n",
    "        \n",
    "        return(vectors, omegas, alphas)"
   ]
  },
  {
   "cell_type": "code",
   "execution_count": null,
   "metadata": {},
   "outputs": [
    {
     "data": {
      "text/plain": [
       "[-10, 10, -10, 10, -10, 10, -10, 10]"
      ]
     },
     "execution_count": 11,
     "metadata": {},
     "output_type": "execute_result"
    }
   ],
   "source": []
  },
  {
   "cell_type": "code",
   "execution_count": null,
   "metadata": {},
   "outputs": [
    {
     "name": "stderr",
     "output_type": "stream",
     "text": [
      "C:\\Users\\idyke\\AppData\\Local\\Temp\\ipykernel_24360\\551491508.py:17: RuntimeWarning: invalid value encountered in sqrt\n",
      "  Ay = np.sqrt(lengths['2']**2 - Ax**2)\n",
      "C:\\Users\\idyke\\AppData\\Local\\Temp\\ipykernel_24360\\551491508.py:18: RuntimeWarning: invalid value encountered in sqrt\n",
      "  By = np.sqrt(lengths['3']**2 - Bx**2)\n"
     ]
    }
   ],
   "source": [
    "pitch_lim = [ (i + 90) * np.pi/180 for i in [-50, +30]]\n",
    "roll_lim = [ (i + 90) * np.pi/180 for i in [-30, +30]]\n",
    "\n",
    "lengths_pitch = {'G': 4.78, # Ground\n",
    "           '1': 3, # Drive Link\n",
    "           '2': 4, # Connector Link\n",
    "           '3': 3.1, # Output Link\n",
    "           }\n",
    "angles_pitch = {'G': 180 * np.pi/180, # Required to be 180 to solve. Map if you want other angles\n",
    "          '1': 40 * np.pi/180}\n",
    "omegas_pitch = {'G':0,\n",
    "        '1': 2} # Rad/s\n",
    "alphas_pitch = {'G':0,\n",
    "          '1':0} # Rad/s\n",
    "config_pitch = True\n",
    "\n",
    "resolution = 360\n",
    "\n",
    "kin_pitch = {\n",
    "    'link1': np.zeros(resolution,dtype=complex),\n",
    "    'omega1': np.zeros(resolution, dtype=float),\n",
    "    'alpha1': np.zeros(resolution, dtype=float),\n",
    "    'link3': np.zeros(resolution,dtype=complex),\n",
    "    'omega3': np.zeros(resolution, dtype=float),\n",
    "    'alpha3': np.zeros(resolution, dtype=float)\n",
    "}\n",
    "pitch_angs = np.linspace(pitch_lim[0], pitch_lim[1], resolution)\n",
    "for i in range(1,len(pitch_angs)):\n",
    "    angles_pitch['1'] = pitch_angs[i]\n",
    "    kin = kinematics(lengths_pitch, angles_pitch, omegas_pitch, alphas_pitch, config_pitch)    \n",
    "    \n",
    "    #print(kin[2]['3'])\n",
    "    kin_pitch['link1'][i] = kin[0]['1']\n",
    "    kin_pitch['omega1'][i] = kin[1]['1']\n",
    "    kin_pitch['alpha1'][i] = kin[2]['1']\n",
    "    kin_pitch['link3'][i] = kin[0]['3']\n",
    "    kin_pitch['omega3'][i] = kin[1]['3']\n",
    "    kin_pitch['alpha3'][i] = kin[2]['3'][0]"
   ]
  },
  {
   "cell_type": "code",
   "execution_count": null,
   "metadata": {},
   "outputs": [],
   "source": []
  },
  {
   "cell_type": "code",
   "execution_count": 55,
   "metadata": {},
   "outputs": [
    {
     "data": {
      "text/plain": [
       "[<matplotlib.lines.Line2D at 0x2122c6e3fb0>]"
      ]
     },
     "execution_count": 55,
     "metadata": {},
     "output_type": "execute_result"
    },
    {
     "data": {
      "image/png": "[encoded data removed]",
      "text/plain": [
       "<Figure size 640x480 with 1 Axes>"
      ]
     },
     "metadata": {},
     "output_type": "display_data"
    }
   ],
   "source": [
    "plt.plot(pitch_angs, kin_pitch['omega3'])\n",
    "plt.plot(pitch_angs,kin_pitch['omega1'])\n"
   ]
  },
  {
   "cell_type": "code",
   "execution_count": null,
   "metadata": {},
   "outputs": [
    {
     "data": {
      "text/plain": [
       "np.float64(0.0)"
      ]
     },
     "execution_count": 35,
     "metadata": {},
     "output_type": "execute_result"
    }
   ],
   "source": [
    "kin_pitch['alpha3'][i] = "
   ]
  },
  {
   "cell_type": "code",
   "execution_count": null,
   "metadata": {},
   "outputs": [],
   "source": []
  }
 ],
 "metadata": {
  "kernelspec": {
   "display_name": "kscale",
   "language": "python",
   "name": "python3"
  },
  "language_info": {
   "codemirror_mode": {
    "name": "ipython",
    "version": 3
   },
   "file_extension": ".py",
   "mimetype": "text/x-python",
   "name": "python",
   "nbconvert_exporter": "python",
   "pygments_lexer": "ipython3",
   "version": "3.12.5"
  }
 },
 "nbformat": 4,
 "nbformat_minor": 2
}
