{
 "cells": [
  {
   "cell_type": "markdown",
   "metadata": {},
   "source": [
    "Solver for 4 Bar Configs!"
   ]
  },
  {
   "cell_type": "code",
   "execution_count": 2,
   "metadata": {},
   "outputs": [],
   "source": [
    "import matplotlib.pyplot as plt\n",
    "import numpy as np\n",
    "import matplotlib.animation as anim\n",
    "from IPython.display import HTML"
   ]
  },
  {
   "cell_type": "markdown",
   "metadata": {},
   "source": [
    "# Basic Function of 4 Bar Solver"
   ]
  },
  {
   "cell_type": "code",
   "execution_count": 3,
   "metadata": {},
   "outputs": [],
   "source": [
    "# Inputs\n",
    "\n",
    "ground_x = 200\n",
    "ground_y = 60\n",
    "ground_ang = float(np.angle(ground_x + ground_y*1j))\n",
    "\n",
    "lengths = {'G': float(np.abs(ground_x + ground_y*1j)), # Ground\n",
    "           '1': 120, # Drive Link\n",
    "           '2': 0, # Connector Link\n",
    "           '3': 150, # Output Link\n",
    "           }\n",
    "lengths['2'] = float(np.abs(ground_x + (lengths['3'] - lengths['1'])*1j))\n",
    "\n",
    "angles = {'G': 180 * np.pi/180, # Required to be 180 to solve. Map if you wan other angles\n",
    "          '1': np.pi/2 + ground_ang}\n",
    "omegas = {'G':0,\n",
    "        '1': 1.5} # Rad/s\n",
    "alphas = {'G':0,\n",
    "          '1':.4} # Rad/s\n",
    "\n",
    "config = True\n",
    "\n",
    "vectors = {'G': 0}\n",
    "vectors['G'] = lengths['G'] * np.exp(angles['G'] * 1j)\n",
    "vectors['1'] = lengths['1'] * np.exp(angles['1'] * 1j)"
   ]
  },
  {
   "cell_type": "code",
   "execution_count": 4,
   "metadata": {},
   "outputs": [],
   "source": [
    "# Using the coordinate @ end of L1 to find the B & C Angles\n",
    "\n",
    "C = vectors['G'] + vectors['1']\n",
    "\n",
    "unit_i = -1 * C/ np.abs(C)\n",
    "unit_j = unit_i * 1j\n",
    "\n",
    "# Finding the unknown angles\n",
    "\n",
    "Ax = (lengths['2']**2 + np.abs(C)**2 - lengths['3']**2) / (2 * np.abs(C))\n",
    "Bx = np.abs(C) - Ax\n",
    "\n",
    "Ay = np.sqrt(lengths['2']**2 - Ax**2)\n",
    "By = np.sqrt(lengths['3']**2 - Bx**2)\n",
    "if config:\n",
    "    By = By * -1\n",
    "else:\n",
    "    Ay = Ay * -1\n",
    "\n",
    "vectors['2'] = unit_i * Ax + unit_j * Ay\n",
    "vectors['3'] = unit_i * Bx + unit_j * By\n",
    "\n",
    "angles['2'] = np.angle(vectors['2'])\n",
    "angles['3'] = np.angle(vectors['3'])\n"
   ]
  },
  {
   "cell_type": "code",
   "execution_count": 5,
   "metadata": {},
   "outputs": [
    {
     "data": {
      "image/png": "[encoded data removed]",
      "text/plain": [
       "<Figure size 640x480 with 1 Axes>"
      ]
     },
     "metadata": {},
     "output_type": "display_data"
    }
   ],
   "source": [
    "# Plotting\n",
    "curr = complex(0,0)\n",
    "for l in vectors.keys():\n",
    "    prev = complex(curr)\n",
    "    curr = curr + vectors[l]\n",
    "    if l == \"G\":\n",
    "        linestyle = \"--\"\n",
    "    else:\n",
    "        linestyle = \"\"\n",
    "    \n",
    "    prev_plt = prev * np.exp(-1j * (ground_ang + np.pi/2))\n",
    "    curr_plt = curr * np.exp(-1j * (ground_ang + np.pi/2))\n",
    "\n",
    "    plt.plot([np.real(prev_plt), np.real(curr_plt)],\n",
    "             [np.imag(prev_plt), np.imag(curr_plt)],\n",
    "             linestyle)"
   ]
  },
  {
   "cell_type": "code",
   "execution_count": 6,
   "metadata": {},
   "outputs": [],
   "source": [
    "staticLengths = np.array( [[np.imag(vectors['2']), np.imag(vectors['3'])],\n",
    "                            [np.real(vectors['2']), np.real(vectors['3'])]])\n",
    "vel = np.array([-1 * np.imag(vectors['1']), -1*np.real(vectors['1'])]) * omegas['1']\n",
    "\n",
    "omegas['2'], omegas['3'] = np.linalg.solve(staticLengths, vel)\n",
    "\n",
    "staticLengthsCross = np.array( \n",
    "    [[np.imag(vectors['1'] * 1j), np.imag(vectors['2']*1j), np.imag(vectors['3']*1j)],\n",
    "    [np.real(vectors['1'] * 1j), np.real(vectors['2']*1j), np.real(vectors['3']*1j)]]\n",
    ")\n",
    "sqvel = np.array([omegas['1']**2, omegas['2']**2, omegas['3']**2])\n",
    "acc = np.array([np.imag(vectors['1']), np.real(vectors['1'])]) * alphas['1']\n",
    "\n",
    "#rhs = -1 * np.dot(staticLengthsCross,sqvel) - acc\n",
    "alphas['2'], alphas['3'] = np.linalg.solve(staticLengths, \n",
    "                                           -1 * np.dot(staticLengthsCross,sqvel).reshape((2,1)) - acc)"
   ]
  },
  {
   "cell_type": "markdown",
   "metadata": {},
   "source": [
    "# Iteration"
   ]
  },
  {
   "cell_type": "markdown",
   "metadata": {},
   "source": [
    "Making above functional"
   ]
  },
  {
   "cell_type": "code",
   "execution_count": 7,
   "metadata": {},
   "outputs": [],
   "source": [
    "def kinematics(lengths, angles, omegas, alphas, config):\n",
    "        vectors = {'G': 0}\n",
    "        vectors['G'] = lengths['G'] * np.exp(angles['G'] * 1j)\n",
    "        vectors['1'] = lengths['1'] * np.exp(angles['1'] * 1j)\n",
    "        # Using the coordinate @ end of L1 to find the B & C Angles\n",
    "\n",
    "        C = vectors['G'] + vectors['1']\n",
    "\n",
    "        unit_i = -1 * C/ np.abs(C)\n",
    "        unit_j = unit_i * 1j\n",
    "\n",
    "        # Finding the unknown angles\n",
    "\n",
    "        Ax = (lengths['2']**2 + np.abs(C)**2 - lengths['3']**2) / (2 * np.abs(C))\n",
    "        Bx = np.abs(C) - Ax\n",
    "\n",
    "        Ay = np.sqrt(lengths['2']**2 - Ax**2)\n",
    "        By = np.sqrt(lengths['3']**2 - Bx**2)\n",
    "        if config:\n",
    "                By = By * -1\n",
    "        else:\n",
    "                Ay = Ay * -1\n",
    "\n",
    "        vectors['2'] = unit_i * Ax + unit_j * Ay\n",
    "        vectors['3'] = unit_i * Bx + unit_j * By\n",
    "\n",
    "        angles['2'] = np.angle(vectors['2'])\n",
    "        angles['3'] = np.angle(vectors['3'])\n",
    "\n",
    "        staticLengths = np.array( [[np.imag(vectors['2']), np.imag(vectors['3'])],\n",
    "                            [np.real(vectors['2']), np.real(vectors['3'])]])\n",
    "        vel = np.array([-1 * np.imag(vectors['1']), -1*np.real(vectors['1'])]) * omegas['1']\n",
    "\n",
    "        omegas['2'], omegas['3'] = np.linalg.solve(staticLengths, vel)\n",
    "\n",
    "        staticLengthsCross = np.array( \n",
    "        [[np.imag(vectors['1'] * 1j), np.imag(vectors['2']*1j), np.imag(vectors['3']*1j)],\n",
    "        [np.real(vectors['1'] * 1j), np.real(vectors['2']*1j), np.real(vectors['3']*1j)]]\n",
    "        )\n",
    "        sqvel = np.array([omegas['1']**2, omegas['2']**2, omegas['3']**2])\n",
    "        acc = np.array([np.imag(vectors['1']), np.real(vectors['1'])]) * alphas['1']\n",
    "\n",
    "        #rhs = -1 * np.dot(staticLengthsCross,sqvel) - acc\n",
    "        alphas['2'], alphas['3'] = np.linalg.solve(staticLengths, \n",
    "                                                -1 * np.dot(staticLengthsCross,sqvel).reshape((2,1)) - acc)\n",
    "        \n",
    "        return(vectors, omegas, alphas)"
   ]
  },
  {
   "cell_type": "markdown",
   "metadata": {},
   "source": [
    "# Pitch Link\n",
    "\n",
    "Running for pitch link"
   ]
  },
  {
   "cell_type": "markdown",
   "metadata": {},
   "source": [
    "Desired output Angles:"
   ]
  },
  {
   "cell_type": "code",
   "execution_count": 8,
   "metadata": {},
   "outputs": [],
   "source": [
    "ankle_pitch = [-50, +30]"
   ]
  },
  {
   "cell_type": "markdown",
   "metadata": {},
   "source": [
    "Inputs:"
   ]
  },
  {
   "cell_type": "code",
   "execution_count": 9,
   "metadata": {},
   "outputs": [],
   "source": [
    "ground_x = 200\n",
    "ground_y = 60\n",
    "ground_ang = float(np.angle(ground_x + ground_y*1j))\n",
    "\n",
    "lengths = {'G': float(np.abs(ground_x + ground_y*1j)), # Ground\n",
    "           '1': 120, # Drive Link\n",
    "           '2': 0, # Connector Link\n",
    "           '3': 150, # Output Link\n",
    "           }\n",
    "lengths['2'] = float(np.abs(ground_x + (lengths['3'] - lengths['1'])*1j))\n",
    "\n",
    "angles = {'G': 180 * np.pi/180, # Required to be 180 to solve. Map if you wan other angles\n",
    "          '1': np.pi/2 + ground_ang}\n",
    "omegas = {'G':0,\n",
    "        '1': 2} # Rad/s\n",
    "alphas = {'G':0,\n",
    "          '1':0} # Rad/s\n",
    "config = True\n",
    "\n",
    "lim = [angles['1'] + i * np.pi/180 for i in [-68, 40]]\n",
    "\n",
    "\n",
    "resolution = 360"
   ]
  },
  {
   "cell_type": "code",
   "execution_count": 10,
   "metadata": {},
   "outputs": [],
   "source": [
    "kin = {\n",
    "    'G': np.zeros(resolution,dtype=complex),\n",
    "    'link1': np.zeros(resolution,dtype=complex),\n",
    "    'omega1': np.zeros(resolution, dtype=float),\n",
    "    'alpha1': np.zeros(resolution, dtype=float),\n",
    "    'link2': np.zeros(resolution,dtype=complex),\n",
    "    'omega2': np.zeros(resolution, dtype=float),\n",
    "    'alpha2': np.zeros(resolution, dtype=float),\n",
    "    'link3': np.zeros(resolution,dtype=complex),\n",
    "    'omega3': np.zeros(resolution, dtype=float),\n",
    "    'alpha3': np.zeros(resolution, dtype=float)\n",
    "}\n",
    "\n",
    "angs = np.linspace(lim[0], lim[1], resolution)\n",
    "\n",
    "for i in range(len(angs)):\n",
    "    angles['1'] = angs[i]\n",
    "    kin_vals = kinematics(lengths, angles, omegas, alphas, config)    \n",
    "    \n",
    "    kin['G'][i] = kin_vals[0]['G']\n",
    "\n",
    "    kin['link1'][i] = kin_vals[0]['1']\n",
    "    kin['omega1'][i] = kin_vals[1]['1']\n",
    "    kin['alpha1'][i] = kin_vals[2]['1']\n",
    "\n",
    "    kin['link2'][i] = kin_vals[0]['2']\n",
    "    kin['omega2'][i] = kin_vals[1]['2']\n",
    "    kin['alpha2'][i] = kin_vals[2]['2'][0]\n",
    "\n",
    "    kin['link3'][i] = kin_vals[0]['3']\n",
    "    kin['omega3'][i] = kin_vals[1]['3']\n",
    "    kin['alpha3'][i] = kin_vals[2]['3'][0]"
   ]
  },
  {
   "cell_type": "markdown",
   "metadata": {},
   "source": [
    "Analysis:"
   ]
  },
  {
   "cell_type": "code",
   "execution_count": 11,
   "metadata": {},
   "outputs": [
    {
     "name": "stdout",
     "output_type": "stream",
     "text": [
      "Max Output Angle: 2.1034710389033777 rad = 120.52001285716214 deg\n",
      "Min Output Angle: 0.7137501759383301 rad = 40.89487270798628 deg\n",
      "Input Travel: [-68.0deg, 40.0deg]\n",
      "Output Travel: [-49.10512729201372deg, 30.520012857162143deg]\n",
      "Desired Output Travel: [-50deg, 30deg]\n"
     ]
    }
   ],
   "source": [
    "output_angles = [np.angle(-1 * a) - ground_ang for a in kin['link3']]\n",
    "input_angles = [np.angle(a) - ground_ang for a in kin['link1']]\n",
    "\n",
    "max_ang = max(output_angles)\n",
    "min_ang = min(output_angles)\n",
    "\n",
    "print(\"Max Output Angle: \" + str(max_ang) + \" rad = \" + str(max_ang * 180/np.pi) + \" deg\")\n",
    "print(\"Min Output Angle: \" + str(min_ang) + \" rad = \" + str(min_ang * 180/np.pi) + \" deg\")\n",
    "print(\"Input Travel: [\" + str(input_angles[0] *180/np.pi - 90) + \"deg, \" + str(input_angles[len(input_angles)-1]*180/np.pi - 90) + \"deg]\")\n",
    "print(\"Output Travel: [\" + str(min_ang * 180/np.pi - 90) + \"deg, \" + str(max_ang * 180/np.pi - 90) + \"deg]\")\n",
    "\n",
    "print(\"Desired Output Travel: [\" + str(ankle_pitch[0]) + \"deg, \" + str(ankle_pitch[1]) + \"deg]\")"
   ]
  },
  {
   "cell_type": "code",
   "execution_count": 12,
   "metadata": {},
   "outputs": [
    {
     "data": {
      "text/plain": [
       "(-292.3285822494954, 292.3285822494954)"
      ]
     },
     "execution_count": 12,
     "metadata": {},
     "output_type": "execute_result"
    },
    {
     "data": {
      "image/png": "[encoded data removed]",
      "text/plain": [
       "<Figure size 640x480 with 1 Axes>"
      ]
     },
     "metadata": {},
     "output_type": "display_data"
    }
   ],
   "source": [
    "fig, ax = plt.subplots()\n",
    "\n",
    "curr = complex(0,0)\n",
    "links = np.zeros(4, object)\n",
    "\n",
    "linknames = ['G', 'link1', 'link2', 'link3']\n",
    "\n",
    "i = 0 # Selection from different solutions for accel problem\n",
    "for n in range(4):\n",
    "    l = linknames[n]\n",
    "    prev = complex(curr)\n",
    "    curr = curr + kin[l][i]\n",
    "    if l == \"G\":\n",
    "        linestyle = \"--\"\n",
    "    else:\n",
    "        linestyle = \"\"\n",
    "    \n",
    "    prev_plt = prev * np.exp(-1j * (ground_ang))\n",
    "    curr_plt = curr * np.exp(-1j * (ground_ang))\n",
    "\n",
    "    links[n] = ax.plot([np.real(prev_plt), np.real(curr_plt)],\n",
    "             [np.imag(prev_plt), np.imag(curr_plt)],\n",
    "             linestyle)[0]\n",
    "\n",
    "ax.set_xlim(-1 * lengths['G']*1.4, lengths['G']*1.4)\n",
    "ax.set_ylim(-1 * lengths['G']*1.4, lengths['G']*1.4)"
   ]
  },
  {
   "cell_type": "code",
   "execution_count": 13,
   "metadata": {},
   "outputs": [
    {
     "data": {
      "text/plain": [
       "Text(0.5, 1.0, 'Angular Velocities')"
      ]
     },
     "execution_count": 13,
     "metadata": {},
     "output_type": "execute_result"
    },
    {
     "data": {
      "image/png": "[encoded data removed]",
      "text/plain": [
       "<Figure size 640x480 with 1 Axes>"
      ]
     },
     "metadata": {},
     "output_type": "display_data"
    }
   ],
   "source": [
    "fig, ax = plt.subplots()\n",
    "ax.plot(angs - np.pi/2, kin['omega3'], label = \"omega output\")\n",
    "ax.plot(angs - np.pi/2,kin['omega1'], label = \"omega input\")\n",
    "ax.legend()\n",
    "ax.set_xlabel(\"Current Input Angle\")\n",
    "ax.set_ylabel(\"rad/s\")\n",
    "ax.set_title(\"Angular Velocities\")"
   ]
  },
  {
   "cell_type": "markdown",
   "metadata": {},
   "source": [
    "$\\tau_1 * \\omega_1 = \\tau_3 * \\omega_3$\n",
    "\n",
    "$\\frac{\\tau_3}{\\tau_1} = TR = \\frac{ \\omega_1 }{ \\omega_3 }$"
   ]
  },
  {
   "cell_type": "code",
   "execution_count": null,
   "metadata": {},
   "outputs": [
    {
     "ename": "TypeError",
     "evalue": "'Text' object is not callable",
     "output_type": "error",
     "traceback": [
      "\u001b[1;31m---------------------------------------------------------------------------\u001b[0m",
      "\u001b[1;31mTypeError\u001b[0m                                 Traceback (most recent call last)",
      "Cell \u001b[1;32mIn[14], line 13\u001b[0m\n\u001b[0;32m     11\u001b[0m ax\u001b[38;5;241m.\u001b[39mset_xlabel(\u001b[38;5;124m\"\u001b[39m\u001b[38;5;124mAngle of Travel, Deg\u001b[39m\u001b[38;5;124m\"\u001b[39m)\n\u001b[0;32m     12\u001b[0m ax\u001b[38;5;241m.\u001b[39mset_ylim((\u001b[38;5;241m0\u001b[39m, np\u001b[38;5;241m.\u001b[39mmax(tr) \u001b[38;5;241m*\u001b[39m \u001b[38;5;241m1.2\u001b[39m))\n\u001b[1;32m---> 13\u001b[0m \u001b[43max\u001b[49m\u001b[38;5;241;43m.\u001b[39;49m\u001b[43mtitle\u001b[49m\u001b[43m(\u001b[49m\u001b[38;5;124;43m\"\u001b[39;49m\u001b[38;5;124;43mEffective Torque Function, Pitch Linkage\u001b[39;49m\u001b[38;5;124;43m\"\u001b[39;49m\u001b[43m)\u001b[49m\n",
      "\u001b[1;31mTypeError\u001b[0m: 'Text' object is not callable"
     ]
    },
    {
     "data": {
      "image/png": "[encoded data removed]",
      "text/plain": [
       "<Figure size 640x480 with 1 Axes>"
      ]
     },
     "metadata": {},
     "output_type": "display_data"
    }
   ],
   "source": [
    "fig, ax = plt.subplots()\n",
    "tr = np.zeros(len(kin['omega3']))\n",
    "for i in range(len(tr)):\n",
    "    if kin['omega1'][i] == 0 or kin['omega3'][i] == 0:\n",
    "        tr[i] = 0\n",
    "    else:\n",
    "        tr[i] = kin['omega1'][i] / kin['omega3'][i]\n",
    "\n",
    "ax.plot( (angs - np.pi/2) * 180/np.pi, tr)\n",
    "ax.set_ylabel(\"Torque Ratio, Output/Input\")\n",
    "ax.set_xlabel(\"Angle of Travel, Deg\")\n",
    "ax.set_ylim((0, np.max(tr) * 1.2))\n",
    "ax.set_title(\"Effective Torque Function, Pitch Linkage\")"
   ]
  },
  {
   "cell_type": "code",
   "execution_count": null,
   "metadata": {},
   "outputs": [],
   "source": [
    "# Plotting w/ Anim\n",
    "fig, ax = plt.subplots()\n",
    "\n",
    "curr = complex(0,0)\n",
    "links = np.zeros(4, object)\n",
    "\n",
    "linknames = ['G', 'link1', 'link2', 'link3']\n",
    "\n",
    "i = 0\n",
    "for n in range(4):\n",
    "    l = linknames[n]\n",
    "    prev = complex(curr)\n",
    "    curr = curr + kin[l][i]\n",
    "    if l == \"G\":\n",
    "        linestyle = \"--\"\n",
    "    else:\n",
    "        linestyle = \"\"\n",
    "    \n",
    "    prev_plt = prev * np.exp(-1j * (ground_ang + np.pi/2))\n",
    "    curr_plt = curr * np.exp(-1j * (ground_ang + np.pi/2))\n",
    "\n",
    "    links[n] = ax.plot([np.real(prev_plt), np.real(curr_plt)],\n",
    "             [np.imag(prev_plt), np.imag(curr_plt)],\n",
    "             linestyle)[0]\n",
    "\n",
    "def update(frame):  \n",
    "    curr = complex(0,0)\n",
    "\n",
    "    linknames = ['G', 'link1', 'link2', 'link3']\n",
    "  \n",
    "    for n in range(4):\n",
    "        l = linknames[n]\n",
    "        prev = complex(curr)\n",
    "        curr = curr + kin[l][frame]\n",
    "        \n",
    "        prev_plt = prev * np.exp(-1j * (ground_ang + np.pi/2))\n",
    "        curr_plt = curr * np.exp(-1j * (ground_ang + np.pi/2))\n",
    "\n",
    "        links[n].set_xdata([np.real(prev_plt), np.real(curr_plt)])\n",
    "        links[n].set_ydata([np.imag(prev_plt), np.imag(curr_plt)])\n",
    "    \n",
    "    return links\n",
    "\n",
    "ax.set_xlim(-1 * lengths['G']*1.4, lengths['G']*1.4)\n",
    "ax.set_ylim(-1 * lengths['G']*1.4, lengths['G']*1.4)\n",
    "\n",
    "\n",
    "ani = anim.FuncAnimation(fig = fig, func = update, frames = [i * 10 for i in range(int(resolution / 10))], interval = 60)\n",
    "ani.save(\"4barkinematics_pitch.gif\", writer = \"pillow\")\n",
    "plt.close()"
   ]
  },
  {
   "cell_type": "code",
   "execution_count": null,
   "metadata": {},
   "outputs": [
    {
     "data": {
      "text/html": [
       "<img src=\"./4barkinematics_pitch.gif\">"
      ],
      "text/plain": [
       "<IPython.core.display.HTML object>"
      ]
     },
     "execution_count": 38,
     "metadata": {},
     "output_type": "execute_result"
    }
   ],
   "source": [
    "HTML('<img src=\"./4barkinematics_pitch.gif\">')"
   ]
  },
  {
   "cell_type": "markdown",
   "metadata": {},
   "source": [
    "--------------------"
   ]
  },
  {
   "cell_type": "markdown",
   "metadata": {},
   "source": [
    "# Roll Link"
   ]
  },
  {
   "cell_type": "markdown",
   "metadata": {},
   "source": [
    "Aim for Link3 Outputs Angles:"
   ]
  },
  {
   "cell_type": "code",
   "execution_count": null,
   "metadata": {},
   "outputs": [],
   "source": [
    "ankle_roll = [-30, 30]"
   ]
  },
  {
   "cell_type": "markdown",
   "metadata": {},
   "source": [
    "Inputs:\n",
    "\n",
    "Note that the angle 1 `lim` needs iterated to get limits similar to desired on the output link."
   ]
  },
  {
   "cell_type": "code",
   "execution_count": null,
   "metadata": {},
   "outputs": [],
   "source": [
    "ground_x = 237\n",
    "ground_y = 0\n",
    "ground_ang = float(np.angle(ground_x + ground_y*1j))\n",
    "\n",
    "lengths = {'G': float(np.abs(ground_x + ground_y*1j)), # Ground\n",
    "           '1': 30, # Drive Link\n",
    "           '2': 0, # Connector Link\n",
    "           '3': 54, # Output Link\n",
    "           }\n",
    "lengths['2'] = float(np.abs(ground_x + (lengths['3'] - lengths['1'])*1j))\n",
    "\n",
    "angles = {'G': 180 * np.pi/180, # Required to be 180 to solve. Map if you wan other angles\n",
    "          '1': np.pi/2 + ground_ang}\n",
    "omegas = {'G':0,\n",
    "        '1': 2} # Rad/s\n",
    "alphas = {'G':0,\n",
    "          '1':0} # Rad/s\n",
    "config = True\n",
    "\n",
    "lim = [angles['1'] + i * np.pi/180 for i in [-60, +60]]\n",
    "\n",
    "resolution = 360"
   ]
  },
  {
   "cell_type": "markdown",
   "metadata": {},
   "source": [
    "Running:"
   ]
  },
  {
   "cell_type": "code",
   "execution_count": null,
   "metadata": {},
   "outputs": [],
   "source": [
    "kin = {\n",
    "    'G': np.zeros(resolution,dtype=complex),\n",
    "    'link1': np.zeros(resolution,dtype=complex),\n",
    "    'omega1': np.zeros(resolution, dtype=float),\n",
    "    'alpha1': np.zeros(resolution, dtype=float),\n",
    "    'link2': np.zeros(resolution,dtype=complex),\n",
    "    'omega2': np.zeros(resolution, dtype=float),\n",
    "    'alpha2': np.zeros(resolution, dtype=float),\n",
    "    'link3': np.zeros(resolution,dtype=complex),\n",
    "    'omega3': np.zeros(resolution, dtype=float),\n",
    "    'alpha3': np.zeros(resolution, dtype=float)\n",
    "}\n",
    "\n",
    "angs = np.linspace(lim[0], lim[1], resolution)\n",
    "\n",
    "for i in range(len(angs)):\n",
    "    angles['1'] = angs[i]\n",
    "    kin_vals = kinematics(lengths, angles, omegas, alphas, config)    \n",
    "    \n",
    "    kin['G'][i] = kin_vals[0]['G']\n",
    "\n",
    "    kin['link1'][i] = kin_vals[0]['1']\n",
    "    kin['omega1'][i] = kin_vals[1]['1']\n",
    "    kin['alpha1'][i] = kin_vals[2]['1']\n",
    "\n",
    "    kin['link2'][i] = kin_vals[0]['2']\n",
    "    kin['omega2'][i] = kin_vals[1]['2']\n",
    "    kin['alpha2'][i] = kin_vals[2]['2'][0]\n",
    "\n",
    "    kin['link3'][i] = kin_vals[0]['3']\n",
    "    kin['omega3'][i] = kin_vals[1]['3']\n",
    "    kin['alpha3'][i] = kin_vals[2]['3'][0]"
   ]
  },
  {
   "cell_type": "markdown",
   "metadata": {},
   "source": [
    "Analysis:"
   ]
  },
  {
   "cell_type": "code",
   "execution_count": null,
   "metadata": {},
   "outputs": [
    {
     "name": "stdout",
     "output_type": "stream",
     "text": [
      "Max Output Angle: 2.0923347995633605 rad = 119.8819533433316 deg\n",
      "Min Output Angle: 1.0913768198582343 rad = 62.531285636286356 deg\n",
      "Input Travel: [-60.0deg, 59.99999999999997deg]\n",
      "Output Travel: [-27.468714363713644deg, 29.881953343331602deg]\n",
      "Desired Output Travel: [-30deg, 30deg]\n"
     ]
    }
   ],
   "source": [
    "output_angles = [np.angle(-1 * a) for a in kin['link3']]\n",
    "input_angles = [np.angle(a) - ground_ang for a in kin['link1']]\n",
    "\n",
    "max_ang = max(output_angles)\n",
    "min_ang = min(output_angles)\n",
    "\n",
    "print(\"Max Output Angle: \" + str(max_ang) + \" rad = \" + str(max_ang * 180/np.pi) + \" deg\")\n",
    "print(\"Min Output Angle: \" + str(min_ang) + \" rad = \" + str(min_ang * 180/np.pi) + \" deg\")\n",
    "print(\"Input Travel: [\" + str(input_angles[0] *180/np.pi - 90) + \"deg, \" + str(input_angles[len(input_angles)-1]*180/np.pi - 90) + \"deg]\")\n",
    "print(\"Output Travel: [\" + str(min_ang * 180/np.pi - 90) + \"deg, \" + str(max_ang * 180/np.pi - 90) + \"deg]\")\n",
    "\n",
    "print(\"Desired Output Travel: [\" + str(ankle_roll[0]) + \"deg, \" + str(ankle_roll[1]) + \"deg]\")\n"
   ]
  },
  {
   "cell_type": "code",
   "execution_count": null,
   "metadata": {},
   "outputs": [
    {
     "data": {
      "text/plain": [
       "(-331.79999999999995, 331.79999999999995)"
      ]
     },
     "execution_count": 59,
     "metadata": {},
     "output_type": "execute_result"
    },
    {
     "data": {
      "image/png": "[encoded data removed]",
      "text/plain": [
       "<Figure size 640x480 with 1 Axes>"
      ]
     },
     "metadata": {},
     "output_type": "display_data"
    }
   ],
   "source": [
    "fig, ax = plt.subplots()\n",
    "\n",
    "curr = complex(0,0)\n",
    "links = np.zeros(4, object)\n",
    "\n",
    "linknames = ['G', 'link1', 'link2', 'link3']\n",
    "\n",
    "i = 0\n",
    "for n in range(4):\n",
    "    l = linknames[n]\n",
    "    prev = complex(curr)\n",
    "    curr = curr + kin[l][i]\n",
    "    if l == \"G\":\n",
    "        linestyle = \"--\"\n",
    "    else:\n",
    "        linestyle = \"\"\n",
    "    \n",
    "    prev_plt = prev * np.exp(-1j * (ground_ang))\n",
    "    curr_plt = curr * np.exp(-1j * (ground_ang))\n",
    "\n",
    "    links[n] = ax.plot([np.real(prev_plt), np.real(curr_plt)],\n",
    "             [np.imag(prev_plt), np.imag(curr_plt)],\n",
    "             linestyle)[0]\n",
    "\n",
    "ax.set_xlim(-1 * lengths['G']*1.4, lengths['G']*1.4)\n",
    "ax.set_ylim(-1 * lengths['G']*1.4, lengths['G']*1.4)"
   ]
  },
  {
   "cell_type": "markdown",
   "metadata": {},
   "source": [
    "$\\tau_1 * \\omega_1 = \\tau_3 * \\omega_3$\n",
    "\n",
    "$\\frac{\\tau_3}{\\tau_1} = TR = \\frac{ \\omega_1 }{ \\omega_3 }$"
   ]
  },
  {
   "cell_type": "code",
   "execution_count": null,
   "metadata": {},
   "outputs": [
    {
     "ename": "NameError",
     "evalue": "name 'plt' is not defined",
     "output_type": "error",
     "traceback": [
      "\u001b[1;31m---------------------------------------------------------------------------\u001b[0m",
      "\u001b[1;31mNameError\u001b[0m                                 Traceback (most recent call last)",
      "Cell \u001b[1;32mIn[1], line 1\u001b[0m\n\u001b[1;32m----> 1\u001b[0m fig, ax \u001b[38;5;241m=\u001b[39m \u001b[43mplt\u001b[49m\u001b[38;5;241m.\u001b[39msubplots()\n\u001b[0;32m      2\u001b[0m tr \u001b[38;5;241m=\u001b[39m np\u001b[38;5;241m.\u001b[39mzeros(\u001b[38;5;28mlen\u001b[39m(kin[\u001b[38;5;124m'\u001b[39m\u001b[38;5;124momega3\u001b[39m\u001b[38;5;124m'\u001b[39m]))\n\u001b[0;32m      3\u001b[0m \u001b[38;5;28;01mfor\u001b[39;00m i \u001b[38;5;129;01min\u001b[39;00m \u001b[38;5;28mrange\u001b[39m(\u001b[38;5;28mlen\u001b[39m(tr)):\n",
      "\u001b[1;31mNameError\u001b[0m: name 'plt' is not defined"
     ]
    }
   ],
   "source": [
    "fig, ax = plt.subplots()\n",
    "tr = np.zeros(len(kin['omega3']))\n",
    "for i in range(len(tr)):\n",
    "    if kin['omega1'][i] == 0 or kin['omega3'][i] == 0:\n",
    "        tr[i] = 0\n",
    "    else:\n",
    "        tr[i] = kin['omega1'][i] / kin['omega3'][i]\n",
    "\n",
    "ax.plot( (angs - np.pi/2) * 180/np.pi, tr)\n",
    "ax.set_ylabel(\"Torque Ratio, Output/Input\")\n",
    "ax.set_xlabel(\"Angle of Travel, Deg\")\n",
    "ax.set_ylim((0, np.max(tr) * 1.2))\n",
    "ax.set_title(\"Effective Torque Function, Roll Linkage\")"
   ]
  },
  {
   "cell_type": "code",
   "execution_count": null,
   "metadata": {},
   "outputs": [],
   "source": [
    "# Plotting w/ Anim\n",
    "fig, ax = plt.subplots()\n",
    "\n",
    "curr = complex(0,0)\n",
    "links = np.zeros(4, object)\n",
    "\n",
    "linknames = ['G', 'link1', 'link2', 'link3']\n",
    "\n",
    "i = 0\n",
    "for n in range(4):\n",
    "    l = linknames[n]\n",
    "    prev = complex(curr)\n",
    "    curr = curr + kin[l][i]\n",
    "    if l == \"G\":\n",
    "        linestyle = \"--\"\n",
    "    else:\n",
    "        linestyle = \"\"\n",
    "    \n",
    "    prev_plt = prev * np.exp(-1j * (ground_ang + np.pi/2))\n",
    "    curr_plt = curr * np.exp(-1j * (ground_ang + np.pi/2))\n",
    "\n",
    "    links[n] = ax.plot([np.real(prev_plt), np.real(curr_plt)],\n",
    "             [np.imag(prev_plt), np.imag(curr_plt)],\n",
    "             linestyle)[0]\n",
    "\n",
    "def update(frame):  \n",
    "    curr = complex(0,0)\n",
    "\n",
    "    linknames = ['G', 'link1', 'link2', 'link3']\n",
    "  \n",
    "    for n in range(4):\n",
    "        l = linknames[n]\n",
    "        prev = complex(curr)\n",
    "        curr = curr + kin[l][frame]\n",
    "        \n",
    "        prev_plt = prev * np.exp(-1j * (ground_ang + np.pi/2))\n",
    "        curr_plt = curr * np.exp(-1j * (ground_ang + np.pi/2))\n",
    "\n",
    "        links[n].set_xdata([np.real(prev_plt), np.real(curr_plt)])\n",
    "        links[n].set_ydata([np.imag(prev_plt), np.imag(curr_plt)])\n",
    "    \n",
    "    return links\n",
    "\n",
    "ax.set_xlim(-1 * lengths['G']*1.4, lengths['G']*1.4)\n",
    "ax.set_ylim(-1 * lengths['G']*1.4, lengths['G']*1.4)\n",
    "\n",
    "ani = anim.FuncAnimation(fig = fig, func = update, frames = [i * 10 for i in range(int(resolution / 10))], interval = 60)\n",
    "ani.save(\"4barkinematics_roll.gif\", writer = \"pillow\")\n",
    "plt.close()"
   ]
  },
  {
   "cell_type": "code",
   "execution_count": null,
   "metadata": {},
   "outputs": [
    {
     "data": {
      "text/html": [
       "<img src=\"./4barkinematics_roll.gif\">"
      ],
      "text/plain": [
       "<IPython.core.display.HTML object>"
      ]
     },
     "metadata": {},
     "output_type": "display_data"
    }
   ],
   "source": [
    "display(HTML('<img src=\"./4barkinematics_roll.gif\">'))"
   ]
  }
 ],
 "metadata": {
  "kernelspec": {
   "display_name": "gear",
   "language": "python",
   "name": "python3"
  },
  "language_info": {
   "codemirror_mode": {
    "name": "ipython",
    "version": 3
   },
   "file_extension": ".py",
   "mimetype": "text/x-python",
   "name": "python",
   "nbconvert_exporter": "python",
   "pygments_lexer": "ipython3",
   "version": "3.11.10"
  }
 },
 "nbformat": 4,
 "nbformat_minor": 2
}
